{
 "cells": [
  {
   "cell_type": "code",
   "execution_count": 194,
   "id": "bcc5b548",
   "metadata": {},
   "outputs": [],
   "source": [
    "import numpy as np\n",
    "import pandas as pd\n",
    "from tensorflow.keras.models import Sequential,load_model\n",
    "from tensorflow.keras.layers import Dense, Flatten, Conv2D, Dropout, BatchNormalization, GlobalAveragePooling2D\n",
    "from tensorflow.keras.utils import to_categorical\n",
    "from tensorflow.keras.preprocessing.image import ImageDataGenerator\n",
    "from tensorflow.keras.callbacks import ModelCheckpoint\n",
    "import matplotlib.pyplot as plt\n"
   ]
  },
  {
   "cell_type": "code",
   "execution_count": 195,
   "id": "65878a48",
   "metadata": {},
   "outputs": [],
   "source": [
    "num_classes=26  #although only 34 classes are used 62 have been put so as to make minimal changes in the class mapping \n",
    "img_size=28\n",
    "data_path=r\"C:\\Users\\hp pavelion\\Downloads\\Final_dataset_csv\\file1.csv\"\n",
    "def img_label(data_path, num_classes=26):\n",
    "    data = pd.read_csv(data_path, header=None)\n",
    "    data_rows = len(data)\n",
    "    \n",
    "    imgs = np.array(data.values[:,1:].reshape(data_rows, img_size, img_size, 1))  #values in csv were such that the image needs to be transposed before training\n",
    "    \n",
    "    labels = to_categorical(data.values[:,0], num_classes)\n",
    "    \n",
    "    return imgs/255, labels"
   ]
  },
  {
   "cell_type": "code",
   "execution_count": 196,
   "id": "24649ee0",
   "metadata": {},
   "outputs": [],
   "source": [
    "imgs,labels=img_label(data_path)"
   ]
  },
  {
   "cell_type": "code",
   "execution_count": 197,
   "id": "2fd11d80",
   "metadata": {},
   "outputs": [
    {
     "data": {
      "text/plain": [
       "(28, 28, 1)"
      ]
     },
     "execution_count": 197,
     "metadata": {},
     "output_type": "execute_result"
    }
   ],
   "source": [
    "imgs[0].shape"
   ]
  },
  {
   "cell_type": "code",
   "execution_count": 198,
   "id": "186eea74",
   "metadata": {},
   "outputs": [
    {
     "data": {
      "text/plain": [
       "(57558, 26)"
      ]
     },
     "execution_count": 198,
     "metadata": {},
     "output_type": "execute_result"
    }
   ],
   "source": [
    "labels.shape"
   ]
  },
  {
   "cell_type": "code",
   "execution_count": 199,
   "id": "a48abbb8",
   "metadata": {},
   "outputs": [
    {
     "name": "stdout",
     "output_type": "stream",
     "text": [
      "Model: \"sequential_4\"\n",
      "_________________________________________________________________\n",
      " Layer (type)                Output Shape              Param #   \n",
      "=================================================================\n",
      " conv2d_6 (Conv2D)           (None, 26, 26, 48)        480       \n",
      "                                                                 \n",
      " max_pooling2d_6 (MaxPooling  (None, 13, 13, 48)       0         \n",
      " 2D)                                                             \n",
      "                                                                 \n",
      " conv2d_7 (Conv2D)           (None, 11, 11, 48)        20784     \n",
      "                                                                 \n",
      " max_pooling2d_7 (MaxPooling  (None, 5, 5, 48)         0         \n",
      " 2D)                                                             \n",
      "                                                                 \n",
      " conv2d_8 (Conv2D)           (None, 3, 3, 32)          13856     \n",
      "                                                                 \n",
      " max_pooling2d_8 (MaxPooling  (None, 1, 1, 32)         0         \n",
      " 2D)                                                             \n",
      "                                                                 \n",
      " flatten_4 (Flatten)         (None, 32)                0         \n",
      "                                                                 \n",
      " dense_12 (Dense)            (None, 512)               16896     \n",
      "                                                                 \n",
      " dense_13 (Dense)            (None, 128)               65664     \n",
      "                                                                 \n",
      " dense_14 (Dense)            (None, 26)                3354      \n",
      "                                                                 \n",
      "=================================================================\n",
      "Total params: 121,034\n",
      "Trainable params: 121,034\n",
      "Non-trainable params: 0\n",
      "_________________________________________________________________\n"
     ]
    }
   ],
   "source": [
    "import tensorflow as tf\n",
    "model = tf.keras.Sequential([ \n",
    "    tf.keras.layers.Conv2D(filters=48, kernel_size=3, activation='relu', input_shape=(28,28,1)),\n",
    "    tf.keras.layers.MaxPooling2D(2,2),\n",
    "    tf.keras.layers.Conv2D(filters=48, kernel_size=3, activation='relu'),\n",
    "    tf.keras.layers.MaxPooling2D(2,2),\n",
    "    tf.keras.layers.Conv2D(filters=32, kernel_size=3, activation='relu'),\n",
    "    tf.keras.layers.MaxPooling2D(2,2),\n",
    "    tf.keras.layers.Flatten(),\n",
    "    tf.keras.layers.Dense(512,activation='relu'),\n",
    "    tf.keras.layers.Dense(128,activation='relu'),\n",
    "    tf.keras.layers.Dense(26,activation='softmax')\n",
    "])\n",
    "model.compile(optimizer=\"adam\", loss=\"categorical_crossentropy\", metrics=[\"accuracy\"])\n",
    "model.summary()"
   ]
  },
  {
   "cell_type": "code",
   "execution_count": 62,
   "id": "551a31aa",
   "metadata": {},
   "outputs": [
    {
     "name": "stdout",
     "output_type": "stream",
     "text": [
      "Model: \"sequential_2\"\n",
      "_________________________________________________________________\n",
      " Layer (type)                Output Shape              Param #   \n",
      "=================================================================\n",
      " conv2d_2 (Conv2D)           (None, 27, 27, 32)        160       \n",
      "                                                                 \n",
      " max_pooling2d_2 (MaxPooling  (None, 13, 13, 32)       0         \n",
      " 2D)                                                             \n",
      "                                                                 \n",
      " flatten_2 (Flatten)         (None, 5408)              0         \n",
      "                                                                 \n",
      " dense_6 (Dense)             (None, 512)               2769408   \n",
      "                                                                 \n",
      " dense_7 (Dense)             (None, 128)               65664     \n",
      "                                                                 \n",
      " dense_8 (Dense)             (None, 26)                3354      \n",
      "                                                                 \n",
      "=================================================================\n",
      "Total params: 2,838,586\n",
      "Trainable params: 2,838,586\n",
      "Non-trainable params: 0\n",
      "_________________________________________________________________\n"
     ]
    }
   ],
   "source": [
    "import tensorflow as tf\n",
    "model = tf.keras.Sequential([ \n",
    "    tf.keras.layers.Conv2D(32,2,input_shape=(28,28,1)),\n",
    "    tf.keras.layers.MaxPooling2D(2,2),\n",
    "    tf.keras.layers.Flatten(input_shape=(28,28,1)),\n",
    "    tf.keras.layers.Dense(512,activation='relu'),\n",
    "    tf.keras.layers.Dense(128,activation='relu'),\n",
    "    tf.keras.layers.Dense(26,activation='softmax')\n",
    "])\n",
    "model.compile(optimizer='rmsprop',loss='categorical_crossentropy',metrics=['accuracy'])\n",
    "model.summary()\n"
   ]
  },
  {
   "cell_type": "code",
   "execution_count": null,
   "id": "eb255f64",
   "metadata": {},
   "outputs": [],
   "source": [
    "\n"
   ]
  },
  {
   "cell_type": "code",
   "execution_count": 63,
   "id": "efae775b",
   "metadata": {},
   "outputs": [],
   "source": [
    "# data_generator_aug=ImageDataGenerator(rotation_range=20,validation_split=0.3) #Commented"
   ]
  },
  {
   "cell_type": "code",
   "execution_count": 64,
   "id": "1be11b23",
   "metadata": {},
   "outputs": [],
   "source": [
    "# data_generator=ImageDataGenerator(validation_split=0.1) #Commented"
   ]
  },
  {
   "cell_type": "code",
   "execution_count": 200,
   "id": "e0a8884a",
   "metadata": {},
   "outputs": [],
   "source": [
    "X,Y=img_label(r\"C:\\Users\\hp pavelion\\Downloads\\Final_dataset_csv\\file1.csv\",26)"
   ]
  },
  {
   "cell_type": "code",
   "execution_count": 201,
   "id": "810f3bbb",
   "metadata": {},
   "outputs": [],
   "source": [
    "from tensorflow.keras.callbacks import EarlyStopping, ReduceLROnPlateau,ModelCheckpoint\n",
    "checkpoint = ModelCheckpoint(r'C:\\Users\\hp pavelion\\Downloads\\Final_dataset_csv\\modified_weights-{epoch:03d}.h5',\n",
    "                                 monitor='val_acc',\n",
    "                                 verbose=0,\n",
    "                                 save_best_only=False,\n",
    "                                 mode='auto')\n",
    "ES = EarlyStopping(monitor='val_accuracy',min_delta=0,verbose=0,restore_best_weights = True,patience=3,mode='max')\n",
    "RLP = ReduceLROnPlateau(monitor='val_loss',patience=3,factor=0.2,min_lr=0.0001)\n"
   ]
  },
  {
   "cell_type": "code",
   "execution_count": 241,
   "id": "f1aeebf1",
   "metadata": {},
   "outputs": [],
   "source": [
    "from sklearn.model_selection import train_test_split\n",
    "train_x,test_x,train_y,test_y = train_test_split(X,Y,test_size=0.5,random_state = 42)"
   ]
  },
  {
   "cell_type": "code",
   "execution_count": 242,
   "id": "e09d7608",
   "metadata": {},
   "outputs": [
    {
     "name": "stdout",
     "output_type": "stream",
     "text": [
      "Epoch 1/3\n",
      "900/900 [==============================] - 19s 21ms/step - loss: 0.0533 - accuracy: 0.9827 - val_loss: 0.1111 - val_accuracy: 0.9719 - lr: 0.0010\n",
      "Epoch 2/3\n",
      "900/900 [==============================] - 18s 20ms/step - loss: 0.0476 - accuracy: 0.9841 - val_loss: 0.1483 - val_accuracy: 0.9637 - lr: 0.0010\n",
      "Epoch 3/3\n",
      "900/900 [==============================] - 17s 19ms/step - loss: 0.0455 - accuracy: 0.9850 - val_loss: 0.1286 - val_accuracy: 0.9713 - lr: 0.0010\n"
     ]
    }
   ],
   "source": [
    "# training_data_generator = data_generator_aug.flow(X, Y,batch_size=2000, subset='training') #Commented\n",
    "# validation_data_generator = data_generator.flow(X, Y,batch_size=2000,subset='validation') #Commented\n",
    "# history = model.fit(training_data_generator, epochs=40, validation_data=validation_data_generator,validation_steps=1,callbacks=[checkpoint])\n",
    "history = model.fit(train_x,train_y,epochs=3,validation_data=(test_x,test_y),callbacks=[checkpoint,ES,RLP])"
   ]
  },
  {
   "cell_type": "code",
   "execution_count": 289,
   "id": "dfa90b0e",
   "metadata": {},
   "outputs": [],
   "source": [
    "model.save(r\"C:\\Users\\hp pavelion\\Downloads\\Final_dataset_csv\\model.h5\")"
   ]
  },
  {
   "cell_type": "code",
   "execution_count": 274,
   "id": "6ecbfca1",
   "metadata": {},
   "outputs": [
    {
     "name": "stdout",
     "output_type": "stream",
     "text": [
      "(28, 28)\n"
     ]
    }
   ],
   "source": [
    "import cv2\n",
    "import matplotlib.pyplot as plt\n",
    "test_image=cv2.imread(r\"C:\\Users\\hp pavelion\\Downloads\\B.jpeg\",cv2.IMREAD_GRAYSCALE)\n",
    "test_image=cv2.resize(test_image,(28,28))\n",
    "print(test_image.shape)\n",
    "test_image=cv2.bitwise_not(test_image)\n",
    "ret3,test_image=cv2.threshold(test_image,0,255,cv2.THRESH_BINARY+cv2.THRESH_OTSU)"
   ]
  },
  {
   "cell_type": "code",
   "execution_count": 275,
   "id": "8b048295",
   "metadata": {},
   "outputs": [
    {
     "data": {
      "image/png": "[encoded data removed]",
      "text/plain": [
       "<Figure size 432x288 with 1 Axes>"
      ]
     },
     "metadata": {
      "needs_background": "light"
     },
     "output_type": "display_data"
    }
   ],
   "source": [
    "plt.imshow(test_image,cmap='Greys_r')\n",
    "plt.show()"
   ]
  },
  {
   "cell_type": "code",
   "execution_count": 276,
   "id": "0b0bc85d",
   "metadata": {},
   "outputs": [
    {
     "name": "stdout",
     "output_type": "stream",
     "text": [
      "8\n",
      "B\n"
     ]
    },
    {
     "data": {
      "text/plain": [
       "array([[1.7003923e-06, 5.0556188e-16, 2.3487410e-09, 1.4860321e-10,\n",
       "        9.3251839e-13, 5.8996260e-08, 1.6576246e-13, 5.7154229e-11,\n",
       "        9.9695885e-01, 2.8017871e-13, 8.1722016e-12, 3.0341770e-03,\n",
       "        5.0811349e-07, 1.1979263e-11, 1.6003934e-11, 7.9385609e-11,\n",
       "        2.1389485e-13, 4.1394671e-07, 7.7447835e-09, 1.5618088e-23,\n",
       "        6.3151906e-09, 5.8652678e-09, 4.4190333e-06, 1.6920928e-09,\n",
       "        7.0240207e-14, 3.0375910e-12]], dtype=float32)"
      ]
     },
     "execution_count": 276,
     "metadata": {},
     "output_type": "execute_result"
    }
   ],
   "source": [
    "class_mapping=[\"A\",\"1-tick\",\"2-cloud\",\"3-croissant\",\"4-heart\",\"5-laugh\",\"6-smile\",\"7-sun\",\"B\",\"E\",\"F\",\"G\",\"H\",\"I\",\"N\",\"O\",\"P\",\"R\",\"S\",\"T\",\"Z\",\"Y\",\"g\",\"h\",\"t\",\"w\"]\n",
    "x=np.reshape(test_image,(28,28,1))/255\n",
    "y=[x]\n",
    "y=np.array(y)\n",
    "result=np.argmax(model.predict(y))\n",
    "print(result)\n",
    "print(class_mapping[result])\n",
    "model.predict(y)"
   ]
  },
  {
   "cell_type": "code",
   "execution_count": null,
   "id": "30184e9d",
   "metadata": {},
   "outputs": [],
   "source": []
  },
  {
   "cell_type": "code",
   "execution_count": 247,
   "id": "cce53755",
   "metadata": {},
   "outputs": [
    {
     "data": {
      "text/plain": [
       "<matplotlib.image.AxesImage at 0x143a377d490>"
      ]
     },
     "execution_count": 247,
     "metadata": {},
     "output_type": "execute_result"
    },
    {
     "data": {
      "image/png": "[encoded data removed]",
      "text/plain": [
       "<Figure size 432x288 with 1 Axes>"
      ]
     },
     "metadata": {
      "needs_background": "light"
     },
     "output_type": "display_data"
    }
   ],
   "source": [
    "plt.imshow(imgs[0],cmap=\"gray\")"
   ]
  },
  {
   "cell_type": "code",
   "execution_count": 281,
   "id": "7b2e9297",
   "metadata": {},
   "outputs": [],
   "source": [
    "def segmentation(photo):\n",
    "    blur = cv2.GaussianBlur(photo,(3,3),2)\n",
    "#     blur=photo\n",
    "    ret3,th3 = cv2.threshold(blur,0,255,cv2.THRESH_BINARY+cv2.THRESH_OTSU)\n",
    "    plt.imshow(blur,cmap=\"gray\")\n",
    "    my_segmented_stack=[]\n",
    "    start=0\n",
    "    for i in range(0,len(th3[0])):\n",
    "        flag=0\n",
    "        count=0\n",
    "        for j in range(0,len(th3)):\n",
    "            if(th3[j][i]==0):\n",
    "                count=count+1\n",
    "        if(count>6):\n",
    "            flag=1\n",
    "        if(flag==1 and start==0):\n",
    "            xi=i\n",
    "            start=1\n",
    "        if(flag==0 and start==1):\n",
    "            xf=i\n",
    "    #         print(xi,xf)\n",
    "            start=0\n",
    "    #         print(xf,xi)\n",
    "            if(xf-xi>len(th3[0])/50):\n",
    "                margin=20\n",
    "                cropped = th3[0:len(th3[0])-2,max(0,xi-margin):min(len(th3[0]-1),xf+margin)]\n",
    "                # print(cropped)\n",
    "                count2=0\n",
    "                for k in range(0,len(cropped)):\n",
    "                    for l in range(0,len(cropped[0])):\n",
    "                        if(cropped[k][l]==0):\n",
    "                            count2=count2+1\n",
    "                    if(count2>0):\n",
    "                        yi=k\n",
    "                        break\n",
    "                count2=0\n",
    "                for k in range(len(cropped)-1,-1,-1):\n",
    "                    for l in range(0,len(cropped[0])):\n",
    "                        if(cropped[k][l]==0):\n",
    "                            count2=count2+1\n",
    "                    if(count2>0):\n",
    "                        yf=k\n",
    "                        break\n",
    "    #             print(yi,yf)\n",
    "                \n",
    "                cropped = th3[max(yi-margin,0):min(yf+margin,len(th3)-1),  max(0,xi-margin):min(len(th3[0]-1),xf+margin)]\n",
    "#                 cropped = th3[yi-20:yf+20,xi-20:xf+20]\n",
    "                print(yi,yf,xi,xf)\n",
    "                kernel = np.ones((5,5), np.uint8)\n",
    "                cropped = cv2.erode(cropped, kernel, iterations=1)\n",
    "                cropped=cv2.resize(cropped,(28,28))\n",
    "                cropped=cv2.bitwise_not(cropped)\n",
    "#                 cropped = cv2.GaussianBlur(cropped,(3,3),0)\n",
    "                my_segmented_stack.append(cropped)\n",
    "    return my_segmented_stack\n",
    "        \n",
    "            # start=0\n",
    "            \n",
    "    \n",
    "    "
   ]
  },
  {
   "cell_type": "code",
   "execution_count": 282,
   "id": "f3c2d513",
   "metadata": {},
   "outputs": [],
   "source": [
    "def main(img_path):\n",
    "    img=cv2.imread(img_path,0)\n",
    "#     print(img)\n",
    "    img_stack=segmentation(img)\n",
    "    t=\"\"\n",
    "    for i in img_stack:\n",
    "        plt.imshow(i,cmap=\"gray\")\n",
    "        plt.show()\n",
    "        x=np.reshape(i,(28,28,1))/255\n",
    "        y=[x]\n",
    "        y=np.array(y)\n",
    "        result=np.argmax(model.predict(y))\n",
    "        print(class_mapping[result])\n",
    "        t+=class_mapping[result]\n",
    "    print(t)\n",
    "\n",
    "    "
   ]
  },
  {
   "cell_type": "code",
   "execution_count": 288,
   "id": "1919168b",
   "metadata": {},
   "outputs": [
    {
     "name": "stdout",
     "output_type": "stream",
     "text": [
      "159 248 139 227\n",
      "155 314 303 377\n",
      "158 313 446 537\n",
      "109 234 596 651\n",
      "123 234 718 799\n",
      "136 229 851 993\n"
     ]
    },
    {
     "data": {
      "image/png": "[encoded data removed]",
      "text/plain": [
       "<Figure size 432x288 with 1 Axes>"
      ]
     },
     "metadata": {
      "needs_background": "light"
     },
     "output_type": "display_data"
    },
    {
     "name": "stdout",
     "output_type": "stream",
     "text": [
      "Z\n"
     ]
    },
    {
     "data": {
      "image/png": "[encoded data removed]",
      "text/plain": [
       "<Figure size 432x288 with 1 Axes>"
      ]
     },
     "metadata": {
      "needs_background": "light"
     },
     "output_type": "display_data"
    },
    {
     "name": "stdout",
     "output_type": "stream",
     "text": [
      "Y\n"
     ]
    },
    {
     "data": {
      "image/png": "[encoded data removed]",
      "text/plain": [
       "<Figure size 432x288 with 1 Axes>"
      ]
     },
     "metadata": {
      "needs_background": "light"
     },
     "output_type": "display_data"
    },
    {
     "name": "stdout",
     "output_type": "stream",
     "text": [
      "g\n"
     ]
    },
    {
     "data": {
      "image/png": "[encoded data removed]",
      "text/plain": [
       "<Figure size 432x288 with 1 Axes>"
      ]
     },
     "metadata": {
      "needs_background": "light"
     },
     "output_type": "display_data"
    },
    {
     "name": "stdout",
     "output_type": "stream",
     "text": [
      "h\n"
     ]
    },
    {
     "data": {
      "image/png": "[encoded data removed]",
      "text/plain": [
       "<Figure size 432x288 with 1 Axes>"
      ]
     },
     "metadata": {
      "needs_background": "light"
     },
     "output_type": "display_data"
    },
    {
     "name": "stdout",
     "output_type": "stream",
     "text": [
      "t\n"
     ]
    },
    {
     "data": {
      "image/png": "[encoded data removed]",
      "text/plain": [
       "<Figure size 432x288 with 1 Axes>"
      ]
     },
     "metadata": {
      "needs_background": "light"
     },
     "output_type": "display_data"
    },
    {
     "name": "stdout",
     "output_type": "stream",
     "text": [
      "w\n",
      "ZYghtw\n"
     ]
    }
   ],
   "source": [
    "main(r\"C:\\Users\\hp pavelion\\Downloads\\WhatsApp Image 2022-04-06 at 10.52.45 PM.jpeg\")"
   ]
  },
  {
   "cell_type": "code",
   "execution_count": null,
   "id": "4d122c45",
   "metadata": {},
   "outputs": [],
   "source": []
  },
  {
   "cell_type": "code",
   "execution_count": null,
   "id": "2865312c",
   "metadata": {},
   "outputs": [],
   "source": []
  },
  {
   "cell_type": "code",
   "execution_count": null,
   "id": "42daedf9",
   "metadata": {},
   "outputs": [],
   "source": []
  }
 ],
 "metadata": {
  "kernelspec": {
   "display_name": "Python 3 (ipykernel)",
   "language": "python",
   "name": "python3"
  },
  "language_info": {
   "codemirror_mode": {
    "name": "ipython",
    "version": 3
   },
   "file_extension": ".py",
   "mimetype": "text/x-python",
   "name": "python",
   "nbconvert_exporter": "python",
   "pygments_lexer": "ipython3",
   "version": "3.9.7"
  }
 },
 "nbformat": 4,
 "nbformat_minor": 5
}
